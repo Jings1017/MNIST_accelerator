{
 "cells": [
  {
   "cell_type": "code",
   "execution_count": 12,
   "metadata": {},
   "outputs": [],
   "source": [
    "for i in range(101):\n",
    "    x = []\n",
    "    with open('../x/test_data_x_'+str(i)+'.txt', 'r') as f:\n",
    "        for line in f:\n",
    "            if line: #avoid blank lines\n",
    "                num = float(line.strip('\\n'))\n",
    "                num = num*0.95\n",
    "                #print(num)\n",
    "                #print(type(num))\n",
    "                x.append(num)\n",
    "    f.close()\n",
    "\n",
    "    with open('../demo_x/x_'+str(i)+'.txt', 'w') as fp:\n",
    "            for item in x:\n",
    "                fp.write(\"%f\\n\" %item)\n",
    "    fp.close()"
   ]
  },
  {
   "cell_type": "code",
   "execution_count": null,
   "metadata": {},
   "outputs": [],
   "source": []
  },
  {
   "cell_type": "code",
   "execution_count": null,
   "metadata": {},
   "outputs": [],
   "source": []
  }
 ],
 "metadata": {
  "kernelspec": {
   "display_name": "Python 3",
   "language": "python",
   "name": "python3"
  },
  "language_info": {
   "codemirror_mode": {
    "name": "ipython",
    "version": 3
   },
   "file_extension": ".py",
   "mimetype": "text/x-python",
   "name": "python",
   "nbconvert_exporter": "python",
   "pygments_lexer": "ipython3",
   "version": "3.7.4"
  }
 },
 "nbformat": 4,
 "nbformat_minor": 2
}
