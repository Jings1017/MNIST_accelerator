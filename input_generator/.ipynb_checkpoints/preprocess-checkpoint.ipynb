{
 "cells": [
  {
   "cell_type": "code",
   "execution_count": null,
   "metadata": {},
   "outputs": [],
   "source": [
    "import matplotlib.pyplot as plt\n",
    "import numpy as np\n",
    "from PIL import Image\n",
    "import tensorflow as tf\n",
    "import matplotlib.pyplot as plt\n",
    "import matplotlib.image as mpimg\n",
    "\n",
    "pic = Image.open('TraingData/0/1.png')\n",
    "gray = pic.convert('L')\n",
    "gray_rz = gray.resize((28,28), Image.ANTIALIAS)\n",
    "np_gray= np.array(gray_rz,float)\n",
    "np_gray = np_gray.ravel()\n",
    "np_gray = 255 - np_gray\n",
    "np_gray /= 255\n",
    "\n",
    "#print(np_gray)\n",
    "print(np_gray.shape)\n",
    "f = open(\"TestData/t0_1.txt\", \"w\")\n",
    "\n",
    "for i in range(784):\n",
    "    f.write(str(np_gray[i])+'\\n')\n",
    "f.close()"
   ]
  },
  {
   "cell_type": "code",
   "execution_count": null,
   "metadata": {},
   "outputs": [],
   "source": []
  },
  {
   "cell_type": "code",
   "execution_count": null,
   "metadata": {},
   "outputs": [],
   "source": []
  },
  {
   "cell_type": "code",
   "execution_count": null,
   "metadata": {},
   "outputs": [],
   "source": []
  }
 ],
 "metadata": {
  "kernelspec": {
   "display_name": "Python 3",
   "language": "python",
   "name": "python3"
  },
  "language_info": {
   "codemirror_mode": {
    "name": "ipython",
    "version": 3
   },
   "file_extension": ".py",
   "mimetype": "text/x-python",
   "name": "python",
   "nbconvert_exporter": "python",
   "pygments_lexer": "ipython3",
   "version": "3.5.5"
  }
 },
 "nbformat": 4,
 "nbformat_minor": 2
}
