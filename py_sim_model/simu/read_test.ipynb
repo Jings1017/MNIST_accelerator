{
 "cells": [
  {
   "cell_type": "code",
   "execution_count": 1,
   "metadata": {},
   "outputs": [],
   "source": [
    "def pass_x(path):\n",
    "    x = np.empty((0,28),float)\n",
    "    row = np.array([])\n",
    "    xf = open(path,'r')\n",
    "    line = xf.readline()\n",
    "    while line:\n",
    "        for i in range(28): \n",
    "            row = np.append(row,float(line))\n",
    "            line = xf.readline()\n",
    "        x = np.append(x,np.expand_dims(row, axis=0),axis=0)\n",
    "        row = np.array([])\n",
    "    xf.close()\n",
    "    return x\n",
    "\n",
    "def pass_y(path):\n",
    "    y = np.array([])\n",
    "    with open(path,'r') as f:\n",
    "        for line in f:\n",
    "            y = np.append(y,float(line))\n",
    "            if 'str' in line:\n",
    "                  break\n",
    "    return y"
   ]
  },
  {
   "cell_type": "code",
   "execution_count": null,
   "metadata": {},
   "outputs": [],
   "source": []
  }
 ],
 "metadata": {
  "kernelspec": {
   "display_name": "Python 3",
   "language": "python",
   "name": "python3"
  },
  "language_info": {
   "codemirror_mode": {
    "name": "ipython",
    "version": 3
   },
   "file_extension": ".py",
   "mimetype": "text/x-python",
   "name": "python",
   "nbconvert_exporter": "python",
   "pygments_lexer": "ipython3",
   "version": "3.6.5"
  }
 },
 "nbformat": 4,
 "nbformat_minor": 2
}
