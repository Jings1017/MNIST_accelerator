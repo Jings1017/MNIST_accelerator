{
 "cells": [
  {
   "cell_type": "code",
   "execution_count": 98,
   "metadata": {},
   "outputs": [],
   "source": [
    "%run read_data.ipynb\n",
    "%run read_test.ipynb\n",
    "%run model_fixed_point.ipynb\n",
    "%run model.ipynb"
   ]
  },
  {
   "cell_type": "code",
   "execution_count": 84,
   "metadata": {},
   "outputs": [],
   "source": [
    "def softmax(x):\n",
    "    return np.exp(x) / np.sum(np.exp(x), axis=0)"
   ]
  },
  {
   "cell_type": "code",
   "execution_count": 85,
   "metadata": {},
   "outputs": [],
   "source": [
    "def load_para_f(k1,k2,dk1,dk2,db1,db2,b1,b2,fb):\n",
    "    k1 = k1-k1%(2**fb)\n",
    "    k2 = k2-k2%(2**fb)\n",
    "    dk1 = dk1-dk1%(2**fb)\n",
    "    dk2 = dk2-dk2%(2**fb)\n",
    "    db1 = db1-db1%(2**fb)\n",
    "    db2 = db2-db2%(2**fb)\n",
    "    b1 = -0.00734525\n",
    "    b2 = -0.05760591\n",
    "    b1 = b1-b1%(2**fb)\n",
    "    b2 = b2-b2%(2**fb)\n",
    "    return (k1,k2,dk1,dk2,db1,db2,b1,b2)"
   ]
  },
  {
   "cell_type": "code",
   "execution_count": 86,
   "metadata": {},
   "outputs": [],
   "source": [
    "def load_data():\n",
    "    (x_train, y_train), (x_test, y_test) = mnist.load_data()\n",
    "    if K.image_data_format() == 'channels_first':\n",
    "        x_train = x_train.reshape(x_train.shape[0], 1, img_rows, img_cols)\n",
    "        x_test = x_test.reshape(x_test.shape[0], 1, img_rows, img_cols)\n",
    "        input_shape = (1, img_rows, img_cols)\n",
    "    else:\n",
    "        x_train = x_train.reshape(x_train.shape[0], img_rows, img_cols, 1)\n",
    "        x_test = x_test.reshape(x_test.shape[0], img_rows, img_cols, 1)\n",
    "        input_shape = (img_rows, img_cols, 1)\n",
    "\n",
    "    x_train = x_train.astype('float32')\n",
    "    x_test = x_test.astype('float32')\n",
    "    x_train /= 255\n",
    "    x_test /= 255\n",
    "    y_train = keras.utils.to_categorical(y_train, num_classes)\n",
    "    y_test = keras.utils.to_categorical(y_test, num_classes)\n",
    " \n",
    "    return (x_test,y_test)"
   ]
  },
  {
   "cell_type": "code",
   "execution_count": 2,
   "metadata": {},
   "outputs": [
    {
     "name": "stderr",
     "output_type": "stream",
     "text": [
      "Using TensorFlow backend.\n"
     ]
    }
   ],
   "source": [
    "import import_ipynb \n",
    "import numpy as np\n",
    "import keras\n",
    "from keras.datasets import mnist\n",
    "from keras import backend as K\n",
    "from random import randrange\n",
    "\n",
    "\n",
    "num_classes = 10\n",
    "\n",
    "# input image dimensions\n",
    "img_rows, img_cols = 28, 28\n",
    "\n",
    "# the data, split between train and test sets\n",
    "(x_train, y_train), (x_test, y_test) = mnist.load_data()\n",
    "\n",
    "if K.image_data_format() == 'channels_first':\n",
    "    x_train = x_train.reshape(x_train.shape[0], 1, img_rows, img_cols)\n",
    "    x_test = x_test.reshape(x_test.shape[0], 1, img_rows, img_cols)\n",
    "    input_shape = (1, img_rows, img_cols)\n",
    "else:\n",
    "    x_train = x_train.reshape(x_train.shape[0], img_rows, img_cols, 1)\n",
    "    x_test = x_test.reshape(x_test.shape[0], img_rows, img_cols, 1)\n",
    "    input_shape = (img_rows, img_cols, 1)\n",
    "\n",
    "x_train = x_train.astype('float32')\n",
    "x_test = x_test.astype('float32')\n",
    "x_train /= 255\n",
    "x_test /= 255\n",
    "\n",
    "# convert class vectors to binary class matrices\n",
    "y_train = keras.utils.to_categorical(y_train, num_classes)\n",
    "y_test = keras.utils.to_categorical(y_test, num_classes)\n",
    "#print(y_test.shape)\n",
    "#print(x_test.shape)\n",
    "#print(y_test.shape[0])\n",
    "#print(x_test.shape[0])"
   ]
  },
  {
   "cell_type": "code",
   "execution_count": 56,
   "metadata": {},
   "outputs": [
    {
     "name": "stdout",
     "output_type": "stream",
     "text": [
      "correct number is 0 between 800 test case\n",
      "correct rate is  0.0\n",
      ".................\n"
     ]
    }
   ],
   "source": [
    "# access data\n",
    "\n",
    "#x = pass_x('../test_data/testx3.txt')\n",
    "#y = pass_y('../test_data/testy3.txt')\n",
    "k1 = pass_k1()\n",
    "k2 = pass_k2()\n",
    "dk1 = pass_dk1()\n",
    "dk2 = pass_dk2()\n",
    "db1 = pass_db1()\n",
    "db2 = pass_db2()\n",
    "b1 = -0.00734525\n",
    "b2 = -0.05760591\n",
    "\n",
    "correct = 0;\n",
    "test_num = 800\n",
    "#for i in range(test_num):\n",
    " #   if cnn_model(x_test[i],y_test[i],k1,k2,dk1,dk2,db1,db2,b1,b2):\n",
    "  #      correct = correct + 1\n",
    "\n",
    "#cnn_model(x_test[0],y_test[0],k1,k2,dk1,dk2,db1,db2,b1,b2)\n",
    "print('correct number is',correct,'between',test_num,'test case')\n",
    "print('correct rate is ',correct/test_num)\n",
    "\n",
    "\n",
    "print('.................')\n",
    " "
   ]
  },
  {
   "cell_type": "code",
   "execution_count": 9,
   "metadata": {},
   "outputs": [
    {
     "name": "stdout",
     "output_type": "stream",
     "text": [
      "correct number is 779 between 800 test case\n",
      "correct rate is  0.97375\n"
     ]
    }
   ],
   "source": [
    "# convert floating point to fixed-point\n",
    "\n",
    "fb = -8\n",
    "\n",
    "k1 = k1-k1%(2**fb)\n",
    "k2 = k2-k2%(2**fb)\n",
    "dk1 = dk1-dk1%(2**fb)\n",
    "dk2 = dk2-dk2%(2**fb)\n",
    "db1 = db1-db1%(2**fb)\n",
    "db2 = db2-db2%(2**fb)\n",
    "b1 = -0.00734525\n",
    "b2 = -0.05760591\n",
    "b1 = b1-b1%(2**fb)\n",
    "b2 = b2-b2%(2**fb)\n",
    "\n",
    "correct = 0;\n",
    "test_num = 800\n",
    "for i in range(test_num):\n",
    "    if cnn_model_f(x_test[i],y_test[i],k1,k2,dk1,dk2,db1,db2,b1,b2,0,fb):\n",
    "        correct = correct + 1\n",
    " \n",
    "print('correct number is',correct,'between',test_num,'test case')\n",
    "print('correct rate is ',correct/test_num)"
   ]
  },
  {
   "cell_type": "code",
   "execution_count": 87,
   "metadata": {},
   "outputs": [
    {
     "name": "stdout",
     "output_type": "stream",
     "text": [
      "bit after int is:  8 bits\n",
      "correct number is 247 between 250 test case\n",
      "correct rate is  0.988\n",
      "------------------------------\n",
      "bit after int is:  7 bits\n",
      "correct number is 247 between 250 test case\n",
      "correct rate is  0.988\n",
      "------------------------------\n",
      "bit after int is:  6 bits\n",
      "correct number is 246 between 250 test case\n",
      "correct rate is  0.984\n",
      "------------------------------\n",
      "bit after int is:  5 bits\n",
      "correct number is 246 between 250 test case\n",
      "correct rate is  0.984\n",
      "------------------------------\n",
      "bit after int is:  4 bits\n",
      "correct number is 245 between 250 test case\n",
      "correct rate is  0.98\n",
      "------------------------------\n",
      "bit after int is:  3 bits\n",
      "correct number is 245 between 250 test case\n",
      "correct rate is  0.98\n",
      "------------------------------\n",
      "bit after int is:  2 bits\n",
      "correct number is 221 between 250 test case\n",
      "correct rate is  0.884\n",
      "------------------------------\n",
      "bit after int is:  1 bits\n",
      "correct number is 42 between 250 test case\n",
      "correct rate is  0.168\n",
      "------------------------------\n"
     ]
    }
   ],
   "source": [
    "# convert floating point to fixed-point\n",
    "\n",
    "fb = -8\n",
    "\n",
    "\n",
    "correct = 0;\n",
    "test_num = 250\n",
    "\n",
    "for FB in range(fb,0,1):\n",
    "    (K1,K2,DK1,DK2,DB1,DB2,B1,B2) = load_para_f(k1,k2,dk1,dk2,db1,db2,b1,b2,FB)\n",
    "    (X,Y) = load_data()\n",
    "    for i in range(test_num):\n",
    "        X[i] = X[i]-X[i]%(2**FB)\n",
    "        if cnn_model_f(X[i],Y[i],K1,K2,dk1,dk2,db1,db2,B1,B2,i,FB):\n",
    "            correct = correct + 1\n",
    "    \n",
    "    print('bit after int is: ',-FB,'bits')\n",
    "    print('correct number is',correct,'between',test_num,'test case')\n",
    "    print('correct rate is ',correct/test_num)\n",
    "    print('------------------------------')\n",
    "    correct = 0\n",
    " \n",
    "#print('correct number is',correct,'between',test_num,'test case')\n",
    "#print('correct rate is ',correct/test_num)"
   ]
  },
  {
   "cell_type": "code",
   "execution_count": 99,
   "metadata": {},
   "outputs": [
    {
     "name": "stdout",
     "output_type": "stream",
     "text": [
      "0.988\n"
     ]
    }
   ],
   "source": [
    "correct = 0;\n",
    "(X,Y) = load_data()\n",
    "test_num = 250\n",
    "for i in range(test_num):\n",
    "    if cnn_model(X[i],Y[i],k1,k2,dk1,dk2,db1,db2,b1,b2):\n",
    "        correct = correct + 1\n",
    "print(correct/test_num)"
   ]
  },
  {
   "cell_type": "code",
   "execution_count": 47,
   "metadata": {},
   "outputs": [
    {
     "name": "stdout",
     "output_type": "stream",
     "text": [
      "[0.32941177] [0.7254902] [0.62352943] [0.5921569] [0.23529412] [0.14117648] [0.87058824] [0.99607843] [0.99607843] [0.99607843] [0.99607843] [0.94509804] [0.7764706] [0.7764706] [0.7764706] [0.7764706] [0.7764706] [0.7764706] [0.7764706] [0.7764706] [0.6666667] [0.20392157] [0.2627451] [0.44705883] [0.28235295] [0.44705883] [0.6392157] [0.8901961] [0.99607843] [0.88235295] [0.99607843] [0.99607843] [0.99607843] [0.98039216] [0.8980392] [0.99607843] [0.99607843] [0.54901963] [0.06666667] [0.25882354] [0.05490196] [0.2627451] [0.2627451] [0.2627451] [0.23137255] [0.08235294] [0.9254902] [0.99607843] [0.41568628] [0.3254902] [0.99215686] [0.81960785] [0.07058824] [0.08627451] [0.9137255] [1.] [0.3254902] [0.5058824] [0.99607843] [0.93333334] [0.17254902] [0.23137255] [0.9764706] [0.99607843] [0.24313726] [0.52156866] [0.99607843] [0.73333335] [0.01960784] [0.03529412] [0.8039216] [0.972549] [0.22745098] [0.49411765] [0.99607843] [0.7137255] [0.29411766] [0.9843137] [0.9411765] [0.22352941] [0.07450981] [0.8666667] [0.99607843] [0.6509804] [0.01176471] [0.79607844] [0.99607843] [0.85882354] [0.13725491] [0.14901961] [0.99607843] [0.99607843] [0.3019608] [0.12156863] [0.8784314] [0.99607843] [0.4509804] [0.00392157] [0.52156866] [0.99607843] [0.99607843] [0.20392157] [0.23921569] [0.9490196] [0.99607843] [0.99607843] [0.20392157] [0.4745098] [0.99607843] [0.99607843] [0.85882354] [0.15686275] [0.4745098] [0.99607843] [0.8117647] [0.07058824] -------\n",
      "[0.04296875] [0.5878906] [0.99121094] [0.7919922] [0.12109375] [0.14453125] [0.98339844] [0.98339844] [0.99121094] [0.4189453] [0.08203125] [0.77246094] [0.98339844] [0.98339844] [0.99121094] [0.4189453] [0.43066406] [0.7441406] [0.98339844] [0.98339844] [0.98339844] [0.99121094] [0.6621094] [0.4267578] [0.2421875] [0.99121094] [0.98339844] [0.98339844] [0.98339844] [0.98339844] [0.99121094] [0.98339844] [0.98339844] [0.8623047] [0.19921875] [0.7128906] [1.] [0.99121094] [0.99121094] [0.99121094] [0.99121094] [0.9169922] [0.8701172] [0.99121094] [0.99121094] [0.99121094] [0.24609375] [0.86621094] [0.99121094] [0.98339844] [0.98339844] [0.98339844] [0.5761719] [0.3017578] [0.2421875] [0.5019531] [0.98339844] [0.98339844] [0.4111328] [0.125] [0.90527344] [0.98339844] [0.99121094] [0.98339844] [0.8623047] [0.5371094] [0.0390625] [0.12109375] [0.9013672] [0.98339844] [0.95214844] [0.4423828] [0.01953125] [0.14453125] [0.98339844] [0.98339844] [0.99121094] [0.7363281] [0.078125] [0.4267578] [0.98339844] [0.99121094] [0.98339844] [0.13671875] [0.14453125] [0.98339844] [0.98339844] [0.78808594] [0.1171875] [0.12109375] [0.7841797] [0.99121094] [0.98339844] [0.13671875] [0.14453125] [0.99121094] [0.99121094] [0.125] [0.7919922] [1.] [0.99121094] [0.6425781] [0.5488281] [0.98339844] [0.98339844] [0.4267578] [0.98339844] [0.99121094] [0.98339844] [0.13671875] [0.85058594] [0.98339844] [0.98339844] [0.08203125] [0.24609375] [0.90527344] [0.98339844] [0.99121094] [0.9013672] [0.1171875] [0.85058594] [0.98339844] [0.98339844] [0.5644531] [0.98339844] [0.98339844] [0.98339844] [0.86621094] [0.23828125] [0.85058594] [0.98339844] [0.98339844] [0.7128906] [0.86621094] [0.98339844] [0.98339844] [0.98339844] [0.7050781] [0.8544922] [0.99121094] [0.99121094] [0.2861328] [0.2861328] [0.8935547] [0.99121094] [0.99121094] [1.] [0.99121094] [0.99121094] [0.99121094] [0.99121094] [0.4423828] [0.98339844] [0.98339844] [0.99121094] [0.98339844] [0.98339844] [0.98339844] [0.98339844] [0.99121094] [0.98339844] [0.98339844] [0.98339844] [0.5761719] [0.12109375] [0.9013672] [0.98339844] [0.99121094] [0.98339844] [0.98339844] [0.98339844] [0.98339844] [0.99121094] [0.9013672] [0.7402344] [0.13671875] [0.0390625] [0.2421875] [0.5566406] [0.99121094] [0.98339844] [0.98339844] [0.98339844] [0.98339844] [0.99121094] [0.4189453] [0.28222656] [0.6816406] [0.98339844] [0.6777344] [0.2783203] [0.28222656] [0.1171875] ------\n",
      "-------\n",
      "[9.98854096e-01 3.64121006e-06 7.90652351e-05 1.59803740e-06\n",
      " 1.86046294e-05 3.89398035e-05 4.24927517e-04 5.00358457e-04\n",
      " 8.58446249e-06 7.01850534e-05]\n",
      "a\n",
      "[1. 0. 0. 0. 0. 0. 0. 0. 0. 0.]\n"
     ]
    }
   ],
   "source": [
    "(X,Y) = load_data()\n",
    "for i in range(28):\n",
    "    for j in range(28):\n",
    "        if X[0][i][j]!=0:\n",
    "            print(X[0][i][j],end=' ')\n",
    "print('-------')\n",
    "fb=-10\n",
    "index = 3\n",
    "X[index] = X[index]-X[index]%(2**fb)\n",
    "for i in range(28):\n",
    "    for j in range(28):\n",
    "        if X[index][i][j]!=0:\n",
    "            print(X[index][i][j],end=' ')\n",
    "\n",
    "print('------')\n",
    "print('-------')\n",
    "if cnn_model_f(X[index],Y[index],k1,k2,dk1,dk2,db1,db2,b1,b2,0,fb):\n",
    "    print('a')\n",
    "else :\n",
    "    print('b')\n",
    "print(Y[index])"
   ]
  },
  {
   "cell_type": "code",
   "execution_count": 82,
   "metadata": {},
   "outputs": [
    {
     "name": "stdout",
     "output_type": "stream",
     "text": [
      "[[ 0.44204316  0.20372748  0.32394782]\n",
      " [ 0.08491429  0.66045576  0.35053986]\n",
      " [ 0.5027545   0.50884897 -0.13011555]]\n"
     ]
    }
   ],
   "source": [
    "print(k1)"
   ]
  }
 ],
 "metadata": {
  "kernelspec": {
   "display_name": "Python 3",
   "language": "python",
   "name": "python3"
  },
  "language_info": {
   "codemirror_mode": {
    "name": "ipython",
    "version": 3
   },
   "file_extension": ".py",
   "mimetype": "text/x-python",
   "name": "python",
   "nbconvert_exporter": "python",
   "pygments_lexer": "ipython3",
   "version": "3.6.5"
  }
 },
 "nbformat": 4,
 "nbformat_minor": 2
}
