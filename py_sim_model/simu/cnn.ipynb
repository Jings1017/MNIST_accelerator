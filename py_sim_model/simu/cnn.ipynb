{
 "cells": [
  {
   "cell_type": "code",
   "execution_count": 24,
   "metadata": {},
   "outputs": [],
   "source": [
    "%run read_data.ipynb\n",
    "%run read_test.ipynb"
   ]
  },
  {
   "cell_type": "code",
   "execution_count": 25,
   "metadata": {},
   "outputs": [
    {
     "name": "stdout",
     "output_type": "stream",
     "text": [
      "(28, 28)\n",
      "(10,)\n",
      "[-0.46026877  0.34092835  0.37125877 -0.9940661   0.04112912  0.83141106\n",
      " -0.6351352   0.21337418  0.93388295]\n",
      "[ 0.40871835  0.20461129  0.3977643   0.83744013  0.95963717  0.27900922\n",
      " -0.41077206 -0.18322632  0.53992754]\n",
      "(338, 128)\n",
      "(128, 10)\n",
      "(128,)\n",
      "(10,)\n"
     ]
    }
   ],
   "source": [
    "import import_ipynb \n",
    "import numpy as np\n",
    "\n",
    "\n",
    "# access data\n",
    "\n",
    "x = pass_x('../test_data/testx0.txt')\n",
    "y = pass_y('../test_data/testy0.txt')\n",
    "k1 = pass_k1()\n",
    "k2 = pass_k2()\n",
    "dk1 = pass_dk1()\n",
    "dk2 = pass_dk2()\n",
    "db1 = pass_db1()\n",
    "db2 = pass_db2()\n",
    " \n",
    "print(x.shape)\n",
    "print(y.shape)\n",
    "print(k1)\n",
    "print(k2)\n",
    "print(dk1.shape)\n",
    "print(dk2.shape)\n",
    "print(db1.shape)\n",
    "print(db2.shape)"
   ]
  },
  {
   "cell_type": "code",
   "execution_count": null,
   "metadata": {},
   "outputs": [],
   "source": []
  }
 ],
 "metadata": {
  "kernelspec": {
   "display_name": "Python 3",
   "language": "python",
   "name": "python3"
  },
  "language_info": {
   "codemirror_mode": {
    "name": "ipython",
    "version": 3
   },
   "file_extension": ".py",
   "mimetype": "text/x-python",
   "name": "python",
   "nbconvert_exporter": "python",
   "pygments_lexer": "ipython3",
   "version": "3.6.5"
  }
 },
 "nbformat": 4,
 "nbformat_minor": 2
}
