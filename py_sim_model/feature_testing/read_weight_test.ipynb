{
 "cells": [
  {
   "cell_type": "code",
   "execution_count": 19,
   "metadata": {},
   "outputs": [
    {
     "name": "stdout",
     "output_type": "stream",
     "text": [
      "[ 0.07903159  0.04067429 -0.2429174   0.10326468 -0.2115504  -0.30638444\n",
      " -0.18215817 -0.1126826   0.3312668   0.27184293]\n"
     ]
    }
   ],
   "source": [
    "import numpy as np\n",
    "\n",
    "\n",
    "'''\n",
    "a = np.array([1,2,3])\n",
    "print(a)\n",
    "a = np.append(a,5)\n",
    "print(a)\n",
    "b = np.array([[3,3,3,3]])\n",
    "a = np.append([a],b,axis=0)\n",
    "print(a)\n",
    "\n",
    "[1 2 3]\n",
    "[1 2 3 5]\n",
    "[[1 2 3 5]\n",
    " [3 3 3 3]]\n",
    "\n",
    "'''\n",
    "\n",
    "# try to read db2 and store in array \n",
    "# success!!\n",
    "db2 = np.array([])\n",
    "with open('db2.txt') as f:\n",
    "   for line in f:\n",
    "       db2 = np.append(db2,float(line))\n",
    "       if 'str' in line:\n",
    "          break\n",
    "# print(db2)\n",
    "\n",
    "# try to read dk2 and store in array\n",
    "\n",
    " "
   ]
  }
 ],
 "metadata": {
  "kernelspec": {
   "display_name": "Python 3",
   "language": "python",
   "name": "python3"
  },
  "language_info": {
   "codemirror_mode": {
    "name": "ipython",
    "version": 3
   },
   "file_extension": ".py",
   "mimetype": "text/x-python",
   "name": "python",
   "nbconvert_exporter": "python",
   "pygments_lexer": "ipython3",
   "version": "3.6.5"
  }
 },
 "nbformat": 4,
 "nbformat_minor": 2
}
