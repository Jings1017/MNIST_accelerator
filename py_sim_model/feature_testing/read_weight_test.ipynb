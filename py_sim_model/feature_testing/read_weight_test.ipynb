{
 "cells": [
  {
   "cell_type": "code",
   "execution_count": 4,
   "metadata": {},
   "outputs": [
    {
     "name": "stdout",
     "output_type": "stream",
     "text": [
      "db2 shape:  (10,)\n",
      "array: \n",
      " [ 0.07903159  0.04067429 -0.2429174   0.10326468 -0.2115504  -0.30638444\n",
      " -0.18215817 -0.1126826   0.3312668   0.27184293]\n",
      "\n",
      "dk1.shape is:  (338, 128)\n",
      "array: \n",
      " [[ 0.0833168   0.07500234 -0.09870519 ...  0.04700266 -0.00565294\n",
      "   0.05313679]\n",
      " [ 0.04648725 -0.07747693 -0.03979787 ... -0.0909694  -0.04117072\n",
      "  -0.02105643]\n",
      " [-0.03982475 -0.0625999   0.0540235  ... -0.08261127 -0.0902487\n",
      "   0.02332269]\n",
      " ...\n",
      " [-0.11953068  0.06431189 -0.04715253 ...  0.03516444 -0.04429092\n",
      "  -0.12911092]\n",
      " [-0.10934352  0.020879    0.0626666  ...  0.02085487  0.05397647\n",
      "  -0.08841191]\n",
      " [-0.08061297 -0.09311254 -0.10230023 ... -0.10269619  0.0349522\n",
      "  -0.09535502]]\n"
     ]
    }
   ],
   "source": [
    "import numpy as np\n",
    "\n",
    "\n",
    "'''\n",
    "a = np.array([1,2,3])\n",
    "print(a)\n",
    "a = np.append(a,5)\n",
    "print(a)\n",
    "b = np.array([[3,3,3,3]])\n",
    "a = np.append([a],b,axis=0)\n",
    "print(a)\n",
    "\n",
    "[1 2 3]\n",
    "[1 2 3 5]\n",
    "[[1 2 3 5]\n",
    " [3 3 3 3]]\n",
    "\n",
    "'''\n",
    "\n",
    "# try to read db2 and store in array \n",
    "# success!!\n",
    "db2 = np.array([])\n",
    "with open('db2.txt') as f:\n",
    "    for line in f:\n",
    "        db2 = np.append(db2,float(line))\n",
    "        if 'str' in line:\n",
    "            break\n",
    "print('db2 shape: ',db2.shape)\n",
    "print('array: \\n',db2)\n",
    "print()\n",
    "# try to read dk2 and store in array\n",
    "# success\n",
    "dk1 = np.empty((0,128),float)\n",
    "row = np.array([])\n",
    "dk1f = open('dk1.txt','r')\n",
    "\n",
    "line = dk1f.readline()\n",
    "while line:\n",
    "    for i in range(128): \n",
    "        row = np.append(row,float(line))\n",
    "        line = dk1f.readline()\n",
    "    dk1 = np.append(dk1,np.expand_dims(row, axis=0),axis=0)\n",
    "    row = np.array([])\n",
    "dk1f.close()\n",
    "print('dk1.shape is: ',dk1.shape)\n",
    "print('array: \\n',dk1)"
   ]
  }
 ],
 "metadata": {
  "kernelspec": {
   "display_name": "Python 3",
   "language": "python",
   "name": "python3"
  },
  "language_info": {
   "codemirror_mode": {
    "name": "ipython",
    "version": 3
   },
   "file_extension": ".py",
   "mimetype": "text/x-python",
   "name": "python",
   "nbconvert_exporter": "python",
   "pygments_lexer": "ipython3",
   "version": "3.6.5"
  }
 },
 "nbformat": 4,
 "nbformat_minor": 2
}
