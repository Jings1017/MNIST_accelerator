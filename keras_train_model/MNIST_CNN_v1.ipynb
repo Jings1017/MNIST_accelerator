{
 "cells": [
  {
   "cell_type": "code",
   "execution_count": 2,
   "metadata": {},
   "outputs": [
    {
     "name": "stderr",
     "output_type": "stream",
     "text": [
      "Using TensorFlow backend.\n"
     ]
    },
    {
     "name": "stdout",
     "output_type": "stream",
     "text": [
      "x_train shape: (60000, 28, 28, 1)\n",
      "60000 train samples\n",
      "10000 test samples\n",
      "WARNING:tensorflow:From D:\\myconda\\lib\\site-packages\\tensorflow\\python\\framework\\op_def_library.py:263: colocate_with (from tensorflow.python.framework.ops) is deprecated and will be removed in a future version.\n",
      "Instructions for updating:\n",
      "Colocations handled automatically by placer.\n",
      "WARNING:tensorflow:From D:\\myconda\\lib\\site-packages\\keras\\backend\\tensorflow_backend.py:3733: calling dropout (from tensorflow.python.ops.nn_ops) with keep_prob is deprecated and will be removed in a future version.\n",
      "Instructions for updating:\n",
      "Please use `rate` instead of `keep_prob`. Rate should be set to `rate = 1 - keep_prob`.\n",
      "WARNING:tensorflow:From D:\\myconda\\lib\\site-packages\\tensorflow\\python\\ops\\math_ops.py:3066: to_int32 (from tensorflow.python.ops.math_ops) is deprecated and will be removed in a future version.\n",
      "Instructions for updating:\n",
      "Use tf.cast instead.\n",
      "Train on 60000 samples, validate on 10000 samples\n",
      "Epoch 1/12\n",
      "60000/60000 [==============================] - 21s 352us/step - loss: 0.5257 - acc: 0.8374 - val_loss: 0.2157 - val_acc: 0.9352\n",
      "Epoch 2/12\n",
      "60000/60000 [==============================] - 21s 355us/step - loss: 0.2783 - acc: 0.9161 - val_loss: 0.1673 - val_acc: 0.9509\n",
      "Epoch 3/12\n",
      "60000/60000 [==============================] - 19s 315us/step - loss: 0.2419 - acc: 0.9276 - val_loss: 0.1466 - val_acc: 0.9553\n",
      "Epoch 4/12\n",
      "60000/60000 [==============================] - 19s 309us/step - loss: 0.2156 - acc: 0.9351 - val_loss: 0.1298 - val_acc: 0.9609\n",
      "Epoch 5/12\n",
      "60000/60000 [==============================] - 19s 314us/step - loss: 0.2008 - acc: 0.9397 - val_loss: 0.1140 - val_acc: 0.9641\n",
      "Epoch 6/12\n",
      "60000/60000 [==============================] - 19s 311us/step - loss: 0.1891 - acc: 0.9437 - val_loss: 0.1163 - val_acc: 0.9648\n",
      "Epoch 7/12\n",
      "60000/60000 [==============================] - 20s 328us/step - loss: 0.1808 - acc: 0.9463 - val_loss: 0.1059 - val_acc: 0.9684\n",
      "Epoch 8/12\n",
      "60000/60000 [==============================] - 22s 372us/step - loss: 0.1746 - acc: 0.9480 - val_loss: 0.1023 - val_acc: 0.9692\n",
      "Epoch 9/12\n",
      "60000/60000 [==============================] - 19s 311us/step - loss: 0.1669 - acc: 0.9492 - val_loss: 0.0981 - val_acc: 0.9707\n",
      "Epoch 10/12\n",
      "60000/60000 [==============================] - 19s 320us/step - loss: 0.1626 - acc: 0.9517 - val_loss: 0.0988 - val_acc: 0.9695\n",
      "Epoch 11/12\n",
      "60000/60000 [==============================] - 20s 330us/step - loss: 0.1562 - acc: 0.9534 - val_loss: 0.0945 - val_acc: 0.9711\n",
      "Epoch 12/12\n",
      "60000/60000 [==============================] - 21s 352us/step - loss: 0.1538 - acc: 0.9535 - val_loss: 0.0947 - val_acc: 0.9704\n",
      "Test loss: 0.0947421468893066\n",
      "Test accuracy: 0.9704\n"
     ]
    }
   ],
   "source": [
    "from __future__ import print_function\n",
    "import keras\n",
    "from keras.datasets import mnist\n",
    "from keras.models import Sequential\n",
    "from keras.layers import Dense, Dropout, Flatten\n",
    "from keras.layers import Conv2D, MaxPooling2D\n",
    "from keras import backend as K\n",
    "\n",
    "batch_size = 128\n",
    "num_classes = 10\n",
    "epochs = 12\n",
    "\n",
    "# input image dimensions\n",
    "img_rows, img_cols = 28, 28\n",
    "\n",
    "# the data, split between train and test sets\n",
    "(x_train, y_train), (x_test, y_test) = mnist.load_data()\n",
    "\n",
    "if K.image_data_format() == 'channels_first':\n",
    "    x_train = x_train.reshape(x_train.shape[0], 1, img_rows, img_cols)\n",
    "    x_test = x_test.reshape(x_test.shape[0], 1, img_rows, img_cols)\n",
    "    input_shape = (1, img_rows, img_cols)\n",
    "else:\n",
    "    x_train = x_train.reshape(x_train.shape[0], img_rows, img_cols, 1)\n",
    "    x_test = x_test.reshape(x_test.shape[0], img_rows, img_cols, 1)\n",
    "    input_shape = (img_rows, img_cols, 1)\n",
    "\n",
    "x_train = x_train.astype('float32')\n",
    "x_test = x_test.astype('float32')\n",
    "x_train /= 255\n",
    "x_test /= 255\n",
    "print('x_train shape:', x_train.shape)\n",
    "print(x_train.shape[0], 'train samples')\n",
    "print(x_test.shape[0], 'test samples')\n",
    "\n",
    "# convert class vectors to binary class matrices\n",
    "y_train = keras.utils.to_categorical(y_train, num_classes)\n",
    "y_test = keras.utils.to_categorical(y_test, num_classes)\n",
    "\n",
    "model = Sequential()\n",
    "model.add(Conv2D(2, kernel_size=(3, 3),\n",
    "                 activation='relu',\n",
    "                 input_shape=input_shape))\n",
    " \n",
    "model.add(MaxPooling2D(pool_size=(2, 2)))\n",
    " \n",
    "model.add(Flatten())\n",
    "model.add(Dense(128, activation='relu'))\n",
    "model.add(Dropout(0.5))\n",
    "model.add(Dense(num_classes, activation='softmax'))\n",
    "\n",
    "model.compile(loss=keras.losses.categorical_crossentropy,\n",
    "              optimizer=keras.optimizers.Adadelta(),\n",
    "              metrics=['accuracy'])\n",
    "\n",
    "model.fit(x_train, y_train,\n",
    "          batch_size=batch_size,\n",
    "          epochs=epochs,\n",
    "          verbose=1,\n",
    "          validation_data=(x_test, y_test))\n",
    "score = model.evaluate(x_test, y_test, verbose=0)\n",
    "print('Test loss:', score[0])\n",
    "print('Test accuracy:', score[1])"
   ]
  },
  {
   "cell_type": "code",
   "execution_count": 21,
   "metadata": {},
   "outputs": [
    {
     "name": "stdout",
     "output_type": "stream",
     "text": [
      "kernel\n",
      "[[[[ 0.70211357 -0.4442712 ]]\n",
      "\n",
      "  [[ 0.8564747   0.5860631 ]]\n",
      "\n",
      "  [[ 0.5609598   0.45131308]]]\n",
      "\n",
      "\n",
      " [[[-0.35779247  0.7455675 ]]\n",
      "\n",
      "  [[ 0.55761576  0.84799486]]\n",
      "\n",
      "  [[ 0.59541386  0.17450665]]]\n",
      "\n",
      "\n",
      " [[[-0.8976044   0.35378945]]\n",
      "\n",
      "  [[-0.69156784  0.63801837]]\n",
      "\n",
      "  [[ 0.37172773 -0.46260032]]]]\n",
      "bias\n",
      "[-0.04460439 -0.19052994]\n"
     ]
    }
   ],
   "source": [
    "print('kernel')\n",
    "print(model.layers[0].get_weights()[0])\n",
    "#print(model.layers[0].get_weights()[0][1])\n",
    "print('bias')\n",
    "print(model.layers[0].get_weights()[1])"
   ]
  },
  {
   "cell_type": "code",
   "execution_count": 16,
   "metadata": {},
   "outputs": [
    {
     "name": "stdout",
     "output_type": "stream",
     "text": [
      "kernel shape: (3, 3, 1, 2)\n",
      "bias shape: (2,)\n"
     ]
    }
   ],
   "source": [
    "print('kernel shape:',model.layers[0].get_weights()[0].shape)\n",
    "print('bias shape:',model.layers[0].get_weights()[1].shape)"
   ]
  },
  {
   "cell_type": "code",
   "execution_count": 15,
   "metadata": {},
   "outputs": [],
   "source": [
    "# write trained data into file\n",
    "\n",
    "k1_file = open('kernel1.txt','w')\n",
    "k2_file = open('kernel2.txt','w')\n",
    "\n",
    "for i in range(3):\n",
    "    for j in range(3):\n",
    "        k1_file.write(str(model.layers[0].get_weights()[0][i][j][0][0])+'\\n')\n",
    "        k2_file.write(str(model.layers[0].get_weights()[0][i][j][0][1])+'\\n')\n",
    "        \n",
    "k1_file.close()\n",
    "k2_file.close()\n",
    "\n",
    "b1_file = open('bias1.txt','w')\n",
    "b2_file = open('bias2.txt','w')\n",
    "\n",
    "b1_file.write(str(model.layers[0].get_weights()[1][0]))\n",
    "b2_file.write(str(model.layers[0].get_weights()[1][1]))\n",
    "b1_file.close()\n",
    "b2_file.close()"
   ]
  },
  {
   "cell_type": "code",
   "execution_count": 17,
   "metadata": {},
   "outputs": [
    {
     "name": "stdout",
     "output_type": "stream",
     "text": [
      "conv2d_1\n",
      "[array([[[[-0.46026877,  0.40871835]],\n",
      "\n",
      "        [[ 0.34092835,  0.20461129]],\n",
      "\n",
      "        [[ 0.37125877,  0.3977643 ]]],\n",
      "\n",
      "\n",
      "       [[[-0.9940661 ,  0.83744013]],\n",
      "\n",
      "        [[ 0.04112912,  0.95963717]],\n",
      "\n",
      "        [[ 0.83141106,  0.27900922]]],\n",
      "\n",
      "\n",
      "       [[[-0.6351352 , -0.41077206]],\n",
      "\n",
      "        [[ 0.21337418, -0.18322632]],\n",
      "\n",
      "        [[ 0.93388295,  0.53992754]]]], dtype=float32), array([-0.39380574,  0.01279862], dtype=float32)]\n",
      "max_pooling2d_1\n",
      "[]\n",
      "flatten_1\n",
      "[]\n",
      "dense_1\n",
      "[array([[ 0.0833168 ,  0.07500234, -0.09870519, ...,  0.04700266,\n",
      "        -0.00565294,  0.05313679],\n",
      "       [ 0.04648725, -0.07747693, -0.03979786, ..., -0.0909694 ,\n",
      "        -0.04117072, -0.02105643],\n",
      "       [-0.03982475, -0.0625999 ,  0.0540235 , ..., -0.08261127,\n",
      "        -0.0902487 ,  0.02332269],\n",
      "       ...,\n",
      "       [-0.11953068,  0.06431189, -0.04715253, ...,  0.03516444,\n",
      "        -0.04429092, -0.12911092],\n",
      "       [-0.10934352,  0.02087899,  0.0626666 , ...,  0.02085487,\n",
      "         0.05397647, -0.08841191],\n",
      "       [-0.08061297, -0.09311254, -0.10230023, ..., -0.10269619,\n",
      "         0.0349522 , -0.09535502]], dtype=float32), array([-0.14319995,  0.01035532, -0.06591889, -0.22532476, -0.12265677,\n",
      "        0.03695918, -0.0206781 ,  0.12810813, -0.14079003,  0.1064679 ,\n",
      "       -0.09852805, -0.28096136, -0.09964131, -0.02423461,  0.02843002,\n",
      "       -0.2904964 ,  0.09153377, -0.2981186 , -0.07452107, -0.19269688,\n",
      "       -0.08291515, -0.13221416, -0.07732987,  0.04423073, -0.06849129,\n",
      "       -0.16853741,  0.12635696, -0.03594604, -0.02844309, -0.12899107,\n",
      "       -0.13142018, -0.07064412, -0.11032567, -0.15453789,  0.08182348,\n",
      "        0.07029616, -0.07023382,  0.06661848, -0.03533475,  0.0448051 ,\n",
      "       -0.2890552 ,  0.13145134, -0.26263985, -0.13990149,  0.06229742,\n",
      "        0.09861908, -0.11042002, -0.14825852,  0.00345137,  0.15061137,\n",
      "       -0.06951834, -0.06319776, -0.00586596,  0.0921846 , -0.2149453 ,\n",
      "        0.12515692, -0.00213042,  0.0391035 , -0.20819357, -0.03314224,\n",
      "       -0.0260025 , -0.06770185, -0.1293446 ,  0.02924154, -0.17811354,\n",
      "        0.07282756,  0.19218653, -0.00437781, -0.17456569,  0.03530159,\n",
      "       -0.03870567,  0.14839016, -0.2870806 ,  0.16722478,  0.03357658,\n",
      "       -0.28321967, -0.18402746,  0.1029042 , -0.15404405, -0.0018186 ,\n",
      "       -0.14789039, -0.1980952 ,  0.02727377, -0.0684946 , -0.06553421,\n",
      "       -0.01834423,  0.1439862 , -0.16900387, -0.0663673 , -0.16755249,\n",
      "       -0.14044848, -0.06140237,  0.11219366, -0.12000746,  0.04315017,\n",
      "       -0.11809551, -0.2203004 , -0.13429184,  0.01493821, -0.15824889,\n",
      "       -0.11573884,  0.0634837 , -0.02252504, -0.2868323 ,  0.00118847,\n",
      "       -0.39648756,  0.04640082,  0.03774834,  0.00137427, -0.2563602 ,\n",
      "       -0.01584373,  0.03060584, -0.06840416,  0.04832013,  0.03433384,\n",
      "        0.08921535, -0.15049028,  0.11464255, -0.05949202, -0.05151999,\n",
      "       -0.06012939, -0.20991382, -0.16890807, -0.36833006, -0.04133727,\n",
      "       -0.32429257,  0.07366607,  0.14624408], dtype=float32)]\n",
      "dropout_1\n",
      "[]\n",
      "dense_2\n",
      "[array([[-0.33177152,  0.02747783, -0.27806145, ...,  0.2346221 ,\n",
      "        -0.35213485, -0.03867479],\n",
      "       [-0.3356425 ,  0.02491978, -0.60034263, ...,  0.04635391,\n",
      "        -0.03186242,  0.03516709],\n",
      "       [-0.2519658 , -0.4182645 , -0.20070687, ...,  0.17366898,\n",
      "        -0.27525446,  0.22389682],\n",
      "       ...,\n",
      "       [ 0.16940066,  0.08527614,  0.10207794, ..., -0.22085203,\n",
      "         0.1052845 ,  0.04346116],\n",
      "       [ 0.05036103, -0.13739784, -0.05927901, ..., -0.17675716,\n",
      "        -0.19677691, -0.21953878],\n",
      "       [-0.02315001,  0.1952315 ,  0.24836925, ..., -0.03563484,\n",
      "        -0.31711513, -0.47050434]], dtype=float32), array([ 0.07903159,  0.0406743 , -0.2429174 ,  0.10326468, -0.2115504 ,\n",
      "       -0.30638444, -0.18215817, -0.1126826 ,  0.3312668 ,  0.27184293],\n",
      "      dtype=float32)]\n"
     ]
    }
   ],
   "source": [
    "for lay in model.layers:\n",
    "    print(lay.name)\n",
    "    print(lay.get_weights())"
   ]
  },
  {
   "cell_type": "code",
   "execution_count": 3,
   "metadata": {},
   "outputs": [
    {
     "name": "stdout",
     "output_type": "stream",
     "text": [
      "dense layer1 kernel shape: (338, 128)\n",
      "dense layer1 bias shape: (128,)\n",
      "dense layer2 kernel shape: (128, 10)\n",
      "dense layer2 bias shape: (10,)\n"
     ]
    }
   ],
   "source": [
    "print('dense layer1 kernel shape:',model.layers[3].get_weights()[0].shape)\n",
    "print('dense layer1 bias shape:',model.layers[3].get_weights()[1].shape)\n",
    "print('dense layer2 kernel shape:',model.layers[5].get_weights()[0].shape)\n",
    "print('dense layer2 bias shape:',model.layers[5].get_weights()[1].shape)"
   ]
  },
  {
   "cell_type": "code",
   "execution_count": 27,
   "metadata": {},
   "outputs": [],
   "source": [
    "# write dense kernel into file\n",
    "\n",
    "dk1_f = open('dk1.txt','w')\n",
    "for i in range(338):\n",
    "    for j in range(128):\n",
    "        dk1_f.write(str(model.layers[3].get_weights()[0][i][j])+'\\n')\n",
    "dk1_f.close()\n",
    "\n",
    "dk2_f = open('dk2.txt','w')\n",
    "for i in range(128):\n",
    "    for j in range(10):\n",
    "        dk2_f.write(str(model.layers[5].get_weights()[0][i][j])+'\\n')\n",
    "dk2_f.close()\n",
    "\n",
    "db1_f = open('db1.txt','w')\n",
    "for i in range(128):\n",
    "    db1_f.write(str(model.layers[3].get_weights()[1][i])+'\\n')\n",
    "db1_f.close()\n",
    "\n",
    "db2_f = open('db2.txt','w')\n",
    "for i in range(10):\n",
    "    db2_f.write(str(model.layers[5].get_weights()[1][i])+'\\n')\n",
    "db2_f.close()"
   ]
  },
  {
   "cell_type": "code",
   "execution_count": 1,
   "metadata": {},
   "outputs": [
    {
     "ename": "NameError",
     "evalue": "name 'x_test' is not defined",
     "output_type": "error",
     "traceback": [
      "\u001b[1;31m---------------------------------------------------------------------------\u001b[0m",
      "\u001b[1;31mNameError\u001b[0m                                 Traceback (most recent call last)",
      "\u001b[1;32m<ipython-input-1-1c6c6393adbe>\u001b[0m in \u001b[0;36m<module>\u001b[1;34m\u001b[0m\n\u001b[0;32m      1\u001b[0m \u001b[1;31m# write test_data into file\u001b[0m\u001b[1;33m\u001b[0m\u001b[1;33m\u001b[0m\u001b[0m\n\u001b[1;32m----> 2\u001b[1;33m \u001b[0mprint\u001b[0m\u001b[1;33m(\u001b[0m\u001b[0mx_test\u001b[0m\u001b[1;33m.\u001b[0m\u001b[0mshape\u001b[0m\u001b[1;33m)\u001b[0m\u001b[1;33m\u001b[0m\u001b[0m\n\u001b[0m\u001b[0;32m      3\u001b[0m \u001b[0mprint\u001b[0m\u001b[1;33m(\u001b[0m\u001b[0my_test\u001b[0m\u001b[1;33m.\u001b[0m\u001b[0mshape\u001b[0m\u001b[1;33m)\u001b[0m\u001b[1;33m\u001b[0m\u001b[0m\n\u001b[0;32m      4\u001b[0m \u001b[0mnum\u001b[0m \u001b[1;33m=\u001b[0m \u001b[1;36m3\u001b[0m\u001b[1;33m\u001b[0m\u001b[0m\n\u001b[0;32m      5\u001b[0m \u001b[1;32mfor\u001b[0m \u001b[0mi\u001b[0m \u001b[1;32min\u001b[0m \u001b[0mrange\u001b[0m\u001b[1;33m(\u001b[0m\u001b[0mnum\u001b[0m\u001b[1;33m)\u001b[0m\u001b[1;33m:\u001b[0m\u001b[1;33m\u001b[0m\u001b[0m\n",
      "\u001b[1;31mNameError\u001b[0m: name 'x_test' is not defined"
     ]
    }
   ],
   "source": [
    "# write test_data into file\n",
    "print(x_test.shape)\n",
    "print(y_test.shape)\n",
    "num = 3\n",
    "for i in range(num):\n",
    "    fx = open('test_data/testx'+str(i)+'.txt','w')\n",
    "    for j in range(28):\n",
    "        for k in range(28):\n",
    "            fx.write(str(x_test[i][j][k][0])+'\\n')\n",
    "    fx.close()\n",
    " \n",
    "for i in range(num):\n",
    "    fy = open('test_data/testy'+str(i)+'.txt','w')\n",
    "    for j in range(10):\n",
    "        fy.write(str(x_test[i][j])+'\\n')\n",
    "    fy.close()\n",
    "    \n",
    "print('write finish!')"
   ]
  }
 ],
 "metadata": {
  "kernelspec": {
   "display_name": "Python 3",
   "language": "python",
   "name": "python3"
  },
  "language_info": {
   "codemirror_mode": {
    "name": "ipython",
    "version": 3
   },
   "file_extension": ".py",
   "mimetype": "text/x-python",
   "name": "python",
   "nbconvert_exporter": "python",
   "pygments_lexer": "ipython3",
   "version": "3.6.5"
  }
 },
 "nbformat": 4,
 "nbformat_minor": 2
}
